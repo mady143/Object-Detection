{
 "cells": [
  {
   "cell_type": "code",
   "execution_count": 1,
   "metadata": {},
   "outputs": [
    {
     "name": "stderr",
     "output_type": "stream",
     "text": [
      "/home/launchship/Environments/project1_env/bin/anaconda3/lib/python3.6/site-packages/h5py/__init__.py:36: FutureWarning: Conversion of the second argument of issubdtype from `float` to `np.floating` is deprecated. In future, it will be treated as `np.float64 == np.dtype(float).type`.\n",
      "  from ._conv import register_converters as _register_converters\n",
      "/home/launchship/Environments/project1_env/bin/anaconda3/lib/python3.6/site-packages/numexpr/cpuinfo.py:42: UserWarning: [Errno 2] No such file or directory: 'uname': 'uname'\n",
      "  warnings.warn(str(e), UserWarning, stacklevel=stacklevel)\n"
     ]
    },
    {
     "data": {
      "text/plain": [
       "array([[1., 1., 1.],\n",
       "       [1., 1., 1.],\n",
       "       [1., 1., 1.]], dtype=float32)"
      ]
     },
     "execution_count": 1,
     "metadata": {},
     "output_type": "execute_result"
    }
   ],
   "source": [
    "import tensorflow as tf\n",
    "import numpy as np\n",
    "import matplotlib.pyplot as plt\n",
    "\n",
    "num_inputs  = 2\n",
    "\n",
    "num_neurons = 3\n",
    "\n",
    "# PLACEHOLDERS\n",
    "\n",
    "x0 = tf.placeholder(tf.float32,[None,num_inputs])\n",
    "\n",
    "x1 = tf.placeholder(tf.float32,[None,num_inputs])\n",
    "\n",
    "# VARAIABLES\n",
    "\n",
    "wx = tf.Variable(tf.random_normal(shape=[num_inputs,num_neurons]))\n",
    "\n",
    "wy = tf.Variable(tf.random_normal(shape=[num_neurons,num_neurons]))\n",
    "\n",
    "b =  tf.Variable(tf.zeros([1,num_neurons]))\n",
    "\n",
    "# GRAPHS\n",
    "\n",
    "y0 = tf.tanh(tf.matmul(x0,wx) + b)\n",
    "\n",
    "y1 = tf.tanh(tf.matmul(y0,wy) + tf.matmul(x1,wx) + b )\n",
    "\n",
    "init = tf.global_variables_initializer()\n",
    "\n",
    "\n",
    "x0_batch = np.array([[0,1],[2,3],[4,5]])\n",
    "\n",
    "x1_batch = np.array([[100,101],[102,103],[104,105]])\n",
    "\n",
    "\n",
    "with tf.Session() as sess:\n",
    "    sess.run(init)\n",
    "    y0_output_vals , y1_output_vals = sess.run([y0,y1],feed_dict = {x0:x0_batch,x1:x1_batch} )\n",
    "    \n",
    "#y0_output_vals\n",
    "y1_output_vals\n"
   ]
  },
  {
   "cell_type": "code",
   "execution_count": null,
   "metadata": {},
   "outputs": [],
   "source": []
  },
  {
   "cell_type": "code",
   "execution_count": null,
   "metadata": {},
   "outputs": [],
   "source": []
  }
 ],
 "metadata": {
  "kernelspec": {
   "display_name": "Python 3",
   "language": "python",
   "name": "python3"
  },
  "language_info": {
   "codemirror_mode": {
    "name": "ipython",
    "version": 3
   },
   "file_extension": ".py",
   "mimetype": "text/x-python",
   "name": "python",
   "nbconvert_exporter": "python",
   "pygments_lexer": "ipython3",
   "version": "3.6.6"
  }
 },
 "nbformat": 4,
 "nbformat_minor": 2
}
